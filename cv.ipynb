{
 "cells": [
  {
   "cell_type": "code",
   "execution_count": 1,
   "id": "a81bc747",
   "metadata": {},
   "outputs": [
    {
     "name": "stderr",
     "output_type": "stream",
     "text": [
      "C:\\Users\\ksuja\\anaconda3\\Lib\\site-packages\\torchvision\\io\\image.py:13: UserWarning: Failed to load image Python extension: '[WinError 127] The specified procedure could not be found'If you don't plan on using image functionality from `torchvision.io`, you can ignore this warning. Otherwise, there might be something wrong with your environment. Did you have `libjpeg` or `libpng` installed before building `torchvision` from source?\n",
      "  warn(\n"
     ]
    }
   ],
   "source": [
    "import torch\n",
    "from torch import nn\n",
    "\n",
    "import torchvision\n",
    "from torchvision import datasets\n",
    "from torchvision import transforms\n",
    "from torchvision.transforms import ToTensor"
   ]
  },
  {
   "cell_type": "code",
   "execution_count": 2,
   "id": "9720c1ea",
   "metadata": {},
   "outputs": [],
   "source": [
    "import matplotlib.pyplot as plt"
   ]
  },
  {
   "cell_type": "code",
   "execution_count": 3,
   "id": "c1d5d544",
   "metadata": {},
   "outputs": [
    {
     "name": "stdout",
     "output_type": "stream",
     "text": [
      "0.15.2a0\n"
     ]
    }
   ],
   "source": [
    "print(torchvision.__version__)"
   ]
  },
  {
   "cell_type": "code",
   "execution_count": 4,
   "id": "68c8a027",
   "metadata": {},
   "outputs": [],
   "source": [
    "Trdta=datasets.FashionMNIST(\n",
    "root=\"data\",train=True,download=True,\n",
    "transform=torchvision.transforms.ToTensor(),\n",
    "target_transform=None)\n",
    "\n",
    "Tsdta=datasets.FashionMNIST(\n",
    "root=\"data\",train=False,download=True,\n",
    "transform=torchvision.transforms.ToTensor(),\n",
    "target_transform=None)"
   ]
  },
  {
   "cell_type": "code",
   "execution_count": 5,
   "id": "09de1326",
   "metadata": {},
   "outputs": [
    {
     "data": {
      "text/plain": [
       "(tensor([[[0.0000, 0.0000, 0.0000, 0.0000, 0.0000, 0.0000, 0.0000, 0.0000,\n",
       "           0.0000, 0.0000, 0.0000, 0.0000, 0.0000, 0.0000, 0.0000, 0.0000,\n",
       "           0.0000, 0.0000, 0.0000, 0.0000, 0.0000, 0.0000, 0.0000, 0.0000,\n",
       "           0.0000, 0.0000, 0.0000, 0.0000],\n",
       "          [0.0000, 0.0000, 0.0000, 0.0000, 0.0000, 0.0000, 0.0000, 0.0000,\n",
       "           0.0000, 0.0000, 0.0000, 0.0000, 0.0000, 0.0000, 0.0000, 0.0000,\n",
       "           0.0000, 0.0000, 0.0000, 0.0000, 0.0000, 0.0000, 0.0000, 0.0000,\n",
       "           0.0000, 0.0000, 0.0000, 0.0000],\n",
       "          [0.0000, 0.0000, 0.0000, 0.0000, 0.0000, 0.0000, 0.0000, 0.0000,\n",
       "           0.0000, 0.0000, 0.0000, 0.0000, 0.0000, 0.0000, 0.0000, 0.0000,\n",
       "           0.0000, 0.0000, 0.0000, 0.0000, 0.0000, 0.0000, 0.0000, 0.0000,\n",
       "           0.0000, 0.0000, 0.0000, 0.0000],\n",
       "          [0.0000, 0.0000, 0.0000, 0.0000, 0.0000, 0.0000, 0.0000, 0.0000,\n",
       "           0.0000, 0.0000, 0.0000, 0.0000, 0.0039, 0.0000, 0.0000, 0.0510,\n",
       "           0.2863, 0.0000, 0.0000, 0.0039, 0.0157, 0.0000, 0.0000, 0.0000,\n",
       "           0.0000, 0.0039, 0.0039, 0.0000],\n",
       "          [0.0000, 0.0000, 0.0000, 0.0000, 0.0000, 0.0000, 0.0000, 0.0000,\n",
       "           0.0000, 0.0000, 0.0000, 0.0000, 0.0118, 0.0000, 0.1412, 0.5333,\n",
       "           0.4980, 0.2431, 0.2118, 0.0000, 0.0000, 0.0000, 0.0039, 0.0118,\n",
       "           0.0157, 0.0000, 0.0000, 0.0118],\n",
       "          [0.0000, 0.0000, 0.0000, 0.0000, 0.0000, 0.0000, 0.0000, 0.0000,\n",
       "           0.0000, 0.0000, 0.0000, 0.0000, 0.0235, 0.0000, 0.4000, 0.8000,\n",
       "           0.6902, 0.5255, 0.5647, 0.4824, 0.0902, 0.0000, 0.0000, 0.0000,\n",
       "           0.0000, 0.0471, 0.0392, 0.0000],\n",
       "          [0.0000, 0.0000, 0.0000, 0.0000, 0.0000, 0.0000, 0.0000, 0.0000,\n",
       "           0.0000, 0.0000, 0.0000, 0.0000, 0.0000, 0.0000, 0.6078, 0.9255,\n",
       "           0.8118, 0.6980, 0.4196, 0.6118, 0.6314, 0.4275, 0.2510, 0.0902,\n",
       "           0.3020, 0.5098, 0.2824, 0.0588],\n",
       "          [0.0000, 0.0000, 0.0000, 0.0000, 0.0000, 0.0000, 0.0000, 0.0000,\n",
       "           0.0000, 0.0000, 0.0000, 0.0039, 0.0000, 0.2706, 0.8118, 0.8745,\n",
       "           0.8549, 0.8471, 0.8471, 0.6392, 0.4980, 0.4745, 0.4784, 0.5725,\n",
       "           0.5529, 0.3451, 0.6745, 0.2588],\n",
       "          [0.0000, 0.0000, 0.0000, 0.0000, 0.0000, 0.0000, 0.0000, 0.0000,\n",
       "           0.0000, 0.0039, 0.0039, 0.0039, 0.0000, 0.7843, 0.9098, 0.9098,\n",
       "           0.9137, 0.8980, 0.8745, 0.8745, 0.8431, 0.8353, 0.6431, 0.4980,\n",
       "           0.4824, 0.7686, 0.8980, 0.0000],\n",
       "          [0.0000, 0.0000, 0.0000, 0.0000, 0.0000, 0.0000, 0.0000, 0.0000,\n",
       "           0.0000, 0.0000, 0.0000, 0.0000, 0.0000, 0.7176, 0.8824, 0.8471,\n",
       "           0.8745, 0.8941, 0.9216, 0.8902, 0.8784, 0.8706, 0.8784, 0.8667,\n",
       "           0.8745, 0.9608, 0.6784, 0.0000],\n",
       "          [0.0000, 0.0000, 0.0000, 0.0000, 0.0000, 0.0000, 0.0000, 0.0000,\n",
       "           0.0000, 0.0000, 0.0000, 0.0000, 0.0000, 0.7569, 0.8941, 0.8549,\n",
       "           0.8353, 0.7765, 0.7059, 0.8314, 0.8235, 0.8275, 0.8353, 0.8745,\n",
       "           0.8627, 0.9529, 0.7922, 0.0000],\n",
       "          [0.0000, 0.0000, 0.0000, 0.0000, 0.0000, 0.0000, 0.0000, 0.0000,\n",
       "           0.0000, 0.0039, 0.0118, 0.0000, 0.0471, 0.8588, 0.8627, 0.8314,\n",
       "           0.8549, 0.7529, 0.6627, 0.8902, 0.8157, 0.8549, 0.8784, 0.8314,\n",
       "           0.8863, 0.7725, 0.8196, 0.2039],\n",
       "          [0.0000, 0.0000, 0.0000, 0.0000, 0.0000, 0.0000, 0.0000, 0.0000,\n",
       "           0.0000, 0.0000, 0.0235, 0.0000, 0.3882, 0.9569, 0.8706, 0.8627,\n",
       "           0.8549, 0.7961, 0.7765, 0.8667, 0.8431, 0.8353, 0.8706, 0.8627,\n",
       "           0.9608, 0.4667, 0.6549, 0.2196],\n",
       "          [0.0000, 0.0000, 0.0000, 0.0000, 0.0000, 0.0000, 0.0000, 0.0000,\n",
       "           0.0000, 0.0157, 0.0000, 0.0000, 0.2157, 0.9255, 0.8941, 0.9020,\n",
       "           0.8941, 0.9412, 0.9098, 0.8353, 0.8549, 0.8745, 0.9176, 0.8510,\n",
       "           0.8510, 0.8196, 0.3608, 0.0000],\n",
       "          [0.0000, 0.0000, 0.0039, 0.0157, 0.0235, 0.0275, 0.0078, 0.0000,\n",
       "           0.0000, 0.0000, 0.0000, 0.0000, 0.9294, 0.8863, 0.8510, 0.8745,\n",
       "           0.8706, 0.8588, 0.8706, 0.8667, 0.8471, 0.8745, 0.8980, 0.8431,\n",
       "           0.8549, 1.0000, 0.3020, 0.0000],\n",
       "          [0.0000, 0.0118, 0.0000, 0.0000, 0.0000, 0.0000, 0.0000, 0.0000,\n",
       "           0.0000, 0.2431, 0.5686, 0.8000, 0.8941, 0.8118, 0.8353, 0.8667,\n",
       "           0.8549, 0.8157, 0.8275, 0.8549, 0.8784, 0.8745, 0.8588, 0.8431,\n",
       "           0.8784, 0.9569, 0.6235, 0.0000],\n",
       "          [0.0000, 0.0000, 0.0000, 0.0000, 0.0706, 0.1725, 0.3216, 0.4196,\n",
       "           0.7412, 0.8941, 0.8627, 0.8706, 0.8510, 0.8863, 0.7843, 0.8039,\n",
       "           0.8275, 0.9020, 0.8784, 0.9176, 0.6902, 0.7373, 0.9804, 0.9725,\n",
       "           0.9137, 0.9333, 0.8431, 0.0000],\n",
       "          [0.0000, 0.2235, 0.7333, 0.8157, 0.8784, 0.8667, 0.8784, 0.8157,\n",
       "           0.8000, 0.8392, 0.8157, 0.8196, 0.7843, 0.6235, 0.9608, 0.7569,\n",
       "           0.8078, 0.8745, 1.0000, 1.0000, 0.8667, 0.9176, 0.8667, 0.8275,\n",
       "           0.8627, 0.9098, 0.9647, 0.0000],\n",
       "          [0.0118, 0.7922, 0.8941, 0.8784, 0.8667, 0.8275, 0.8275, 0.8392,\n",
       "           0.8039, 0.8039, 0.8039, 0.8627, 0.9412, 0.3137, 0.5882, 1.0000,\n",
       "           0.8980, 0.8667, 0.7373, 0.6039, 0.7490, 0.8235, 0.8000, 0.8196,\n",
       "           0.8706, 0.8941, 0.8824, 0.0000],\n",
       "          [0.3843, 0.9137, 0.7765, 0.8235, 0.8706, 0.8980, 0.8980, 0.9176,\n",
       "           0.9765, 0.8627, 0.7608, 0.8431, 0.8510, 0.9451, 0.2549, 0.2863,\n",
       "           0.4157, 0.4588, 0.6588, 0.8588, 0.8667, 0.8431, 0.8510, 0.8745,\n",
       "           0.8745, 0.8784, 0.8980, 0.1137],\n",
       "          [0.2941, 0.8000, 0.8314, 0.8000, 0.7569, 0.8039, 0.8275, 0.8824,\n",
       "           0.8471, 0.7255, 0.7725, 0.8078, 0.7765, 0.8353, 0.9412, 0.7647,\n",
       "           0.8902, 0.9608, 0.9373, 0.8745, 0.8549, 0.8314, 0.8196, 0.8706,\n",
       "           0.8627, 0.8667, 0.9020, 0.2627],\n",
       "          [0.1882, 0.7961, 0.7176, 0.7608, 0.8353, 0.7725, 0.7255, 0.7451,\n",
       "           0.7608, 0.7529, 0.7922, 0.8392, 0.8588, 0.8667, 0.8627, 0.9255,\n",
       "           0.8824, 0.8471, 0.7804, 0.8078, 0.7294, 0.7098, 0.6941, 0.6745,\n",
       "           0.7098, 0.8039, 0.8078, 0.4510],\n",
       "          [0.0000, 0.4784, 0.8588, 0.7569, 0.7020, 0.6706, 0.7176, 0.7686,\n",
       "           0.8000, 0.8235, 0.8353, 0.8118, 0.8275, 0.8235, 0.7843, 0.7686,\n",
       "           0.7608, 0.7490, 0.7647, 0.7490, 0.7765, 0.7529, 0.6902, 0.6118,\n",
       "           0.6549, 0.6941, 0.8235, 0.3608],\n",
       "          [0.0000, 0.0000, 0.2902, 0.7412, 0.8314, 0.7490, 0.6863, 0.6745,\n",
       "           0.6863, 0.7098, 0.7255, 0.7373, 0.7412, 0.7373, 0.7569, 0.7765,\n",
       "           0.8000, 0.8196, 0.8235, 0.8235, 0.8275, 0.7373, 0.7373, 0.7608,\n",
       "           0.7529, 0.8471, 0.6667, 0.0000],\n",
       "          [0.0078, 0.0000, 0.0000, 0.0000, 0.2588, 0.7843, 0.8706, 0.9294,\n",
       "           0.9373, 0.9490, 0.9647, 0.9529, 0.9569, 0.8667, 0.8627, 0.7569,\n",
       "           0.7490, 0.7020, 0.7137, 0.7137, 0.7098, 0.6902, 0.6510, 0.6588,\n",
       "           0.3882, 0.2275, 0.0000, 0.0000],\n",
       "          [0.0000, 0.0000, 0.0000, 0.0000, 0.0000, 0.0000, 0.0000, 0.1569,\n",
       "           0.2392, 0.1725, 0.2824, 0.1608, 0.1373, 0.0000, 0.0000, 0.0000,\n",
       "           0.0000, 0.0000, 0.0000, 0.0000, 0.0000, 0.0000, 0.0000, 0.0000,\n",
       "           0.0000, 0.0000, 0.0000, 0.0000],\n",
       "          [0.0000, 0.0000, 0.0000, 0.0000, 0.0000, 0.0000, 0.0000, 0.0000,\n",
       "           0.0000, 0.0000, 0.0000, 0.0000, 0.0000, 0.0000, 0.0000, 0.0000,\n",
       "           0.0000, 0.0000, 0.0000, 0.0000, 0.0000, 0.0000, 0.0000, 0.0000,\n",
       "           0.0000, 0.0000, 0.0000, 0.0000],\n",
       "          [0.0000, 0.0000, 0.0000, 0.0000, 0.0000, 0.0000, 0.0000, 0.0000,\n",
       "           0.0000, 0.0000, 0.0000, 0.0000, 0.0000, 0.0000, 0.0000, 0.0000,\n",
       "           0.0000, 0.0000, 0.0000, 0.0000, 0.0000, 0.0000, 0.0000, 0.0000,\n",
       "           0.0000, 0.0000, 0.0000, 0.0000]]]),\n",
       " 9)"
      ]
     },
     "execution_count": 5,
     "metadata": {},
     "output_type": "execute_result"
    }
   ],
   "source": [
    "img,lbl=Trdta[0]\n",
    "img,lbl"
   ]
  },
  {
   "cell_type": "code",
   "execution_count": 6,
   "id": "c7cfb4d2",
   "metadata": {},
   "outputs": [
    {
     "data": {
      "text/plain": [
       "['T-shirt/top',\n",
       " 'Trouser',\n",
       " 'Pullover',\n",
       " 'Dress',\n",
       " 'Coat',\n",
       " 'Sandal',\n",
       " 'Shirt',\n",
       " 'Sneaker',\n",
       " 'Bag',\n",
       " 'Ankle boot']"
      ]
     },
     "execution_count": 6,
     "metadata": {},
     "output_type": "execute_result"
    }
   ],
   "source": [
    "class_names=Trdta.classes\n",
    "class_names"
   ]
  },
  {
   "cell_type": "code",
   "execution_count": 7,
   "id": "8ddf5075",
   "metadata": {},
   "outputs": [
    {
     "data": {
      "text/plain": [
       "tensor([9, 0, 0,  ..., 3, 0, 5])"
      ]
     },
     "execution_count": 7,
     "metadata": {},
     "output_type": "execute_result"
    }
   ],
   "source": [
    "Trdta.targets"
   ]
  },
  {
   "cell_type": "code",
   "execution_count": 8,
   "id": "92c70ffd",
   "metadata": {},
   "outputs": [
    {
     "name": "stdout",
     "output_type": "stream",
     "text": [
      "Image Shape:torch.Size([1, 28, 28])\n"
     ]
    }
   ],
   "source": [
    "print(f\"Image Shape:{img.shape}\")"
   ]
  },
  {
   "cell_type": "code",
   "execution_count": 9,
   "id": "b9ea540b",
   "metadata": {},
   "outputs": [
    {
     "data": {
      "text/plain": [
       "(-0.5, 27.5, 27.5, -0.5)"
      ]
     },
     "execution_count": 9,
     "metadata": {},
     "output_type": "execute_result"
    },
    {
     "data": {
      "image/png": "[encoded data removed]",
      "text/plain": [
       "<Figure size 640x480 with 1 Axes>"
      ]
     },
     "metadata": {},
     "output_type": "display_data"
    }
   ],
   "source": [
    "plt.imshow(img.squeeze(),cmap=\"gray\")\n",
    "plt.title(class_names[lbl])\n",
    "plt.axis(False)"
   ]
  },
  {
   "cell_type": "code",
   "execution_count": 10,
   "id": "64b6ea9a",
   "metadata": {},
   "outputs": [
    {
     "data": {
      "image/png": "[encoded data removed]",
      "text/plain": [
       "<Figure size 900x900 with 16 Axes>"
      ]
     },
     "metadata": {},
     "output_type": "display_data"
    }
   ],
   "source": [
    "torch.manual_seed(42)\n",
    "fig=plt.figure(figsize=(9,9))\n",
    "rows,cols=4,4\n",
    "for it in range(1,rows*cols+1):\n",
    "    randm_id=torch.randint(0,len(Trdta),size=[1]).item()\n",
    "    img,lbl=Trdta[randm_id]\n",
    "    fig.add_subplot(rows,cols,it)\n",
    "    plt.imshow(img.squeeze())\n",
    "    plt.title(class_names[lbl])\n",
    "    plt.axis(False)"
   ]
  },
  {
   "cell_type": "code",
   "execution_count": 11,
   "id": "6e6f7620",
   "metadata": {},
   "outputs": [
    {
     "data": {
      "text/plain": [
       "(<torch.utils.data.dataloader.DataLoader at 0x1eb2bf39d50>,\n",
       " <torch.utils.data.dataloader.DataLoader at 0x1eb2bb5f490>)"
      ]
     },
     "execution_count": 11,
     "metadata": {},
     "output_type": "execute_result"
    }
   ],
   "source": [
    "from torch.utils.data import DataLoader\n",
    "Trnload=DataLoader(dataset=Trdta,batch_size=32,shuffle=True)\n",
    "Testload=DataLoader(dataset=Tsdta,batch_size=32,shuffle=False)\n",
    "Trnload,Testload"
   ]
  },
  {
   "cell_type": "code",
   "execution_count": 12,
   "id": "88b7a00f",
   "metadata": {},
   "outputs": [
    {
     "data": {
      "text/plain": [
       "(torch.Size([32, 1, 28, 28]), torch.Size([32]))"
      ]
     },
     "execution_count": 12,
     "metadata": {},
     "output_type": "execute_result"
    }
   ],
   "source": [
    "Trfeature,Trlbl=next(iter(Trnload))\n",
    "Trfeature.shape,Trlbl.shape"
   ]
  },
  {
   "cell_type": "code",
   "execution_count": 13,
   "id": "de23fc01",
   "metadata": {},
   "outputs": [
    {
     "name": "stdout",
     "output_type": "stream",
     "text": [
      "Image size:torch.Size([1, 28, 28])\n",
      "Label:8,Label size:torch.Size([])\n"
     ]
    },
    {
     "data": {
      "image/png": "[encoded data removed]",
      "text/plain": [
       "<Figure size 640x480 with 1 Axes>"
      ]
     },
     "metadata": {},
     "output_type": "display_data"
    }
   ],
   "source": [
    "#torch.manual_seed(42)\n",
    "randid=torch.randint(0,len(Trfeature),size=[1]).item()\n",
    "img,lbl=Trfeature[randid],Trlbl[randid]\n",
    "plt.imshow(img.squeeze())\n",
    "plt.title(class_names[lbl])\n",
    "plt.axis(False)\n",
    "print(f\"Image size:{img.shape}\")\n",
    "print(f\"Label:{lbl},Label size:{lbl.shape}\")"
   ]
  },
  {
   "cell_type": "code",
   "execution_count": 14,
   "id": "d83706de",
   "metadata": {},
   "outputs": [
    {
     "name": "stdout",
     "output_type": "stream",
     "text": [
      "Shape before flatten: torch.Size([1, 28, 28])\n",
      "Shape after:torch.Size([1, 784])\n"
     ]
    }
   ],
   "source": [
    "mod=nn.Flatten()\n",
    "xx=Trfeature[0]\n",
    "output=mod(xx)\n",
    "\n",
    "print(f\"Shape before flatten: {xx.shape}\")\n",
    "print(f\"Shape after:{output.shape}\")"
   ]
  },
  {
   "cell_type": "code",
   "execution_count": 15,
   "id": "f63e1fee",
   "metadata": {},
   "outputs": [
    {
     "data": {
      "text/plain": [
       "tensor([0.0000, 0.0000, 0.0000, 0.0000, 0.0000, 0.0000, 0.0000, 0.0000, 0.0000,\n",
       "        0.0000, 0.0000, 0.0000, 0.0000, 0.0000, 0.0000, 0.0000, 0.0000, 0.0000,\n",
       "        0.0000, 0.0000, 0.0000, 0.0000, 0.0000, 0.0000, 0.0000, 0.0000, 0.0000,\n",
       "        0.0000, 0.0000, 0.0000, 0.0000, 0.0000, 0.0000, 0.0000, 0.0000, 0.0000,\n",
       "        0.0000, 0.0000, 0.0000, 0.0000, 0.0000, 0.0000, 0.0000, 0.0000, 0.0000,\n",
       "        0.0000, 0.0000, 0.0000, 0.0000, 0.0000, 0.0000, 0.0000, 0.0000, 0.0000,\n",
       "        0.0000, 0.0000, 0.0000, 0.0000, 0.0000, 0.0000, 0.0000, 0.0000, 0.0000,\n",
       "        0.0000, 0.0000, 0.0000, 0.0000, 0.0000, 0.0000, 0.0000, 0.0000, 0.0000,\n",
       "        0.0000, 0.0000, 0.0000, 0.0000, 0.0000, 0.0000, 0.0000, 0.0000, 0.0000,\n",
       "        0.0000, 0.0000, 0.0000, 0.0000, 0.0000, 0.0000, 0.0000, 0.0000, 0.0000,\n",
       "        0.0000, 0.0000, 0.0000, 0.0039, 0.0039, 0.0000, 0.0000, 0.0078, 0.0078,\n",
       "        0.0000, 0.0000, 0.0039, 0.0078, 0.0000, 0.0000, 0.0000, 0.0000, 0.0000,\n",
       "        0.2863, 0.0000, 0.0000, 0.0078, 0.0000, 0.0000, 0.0000, 0.0000, 0.0000,\n",
       "        0.0000, 0.0000, 0.0000, 0.0000, 0.0000, 0.0000, 0.0000, 0.0000, 0.0000,\n",
       "        0.0000, 0.0000, 0.0000, 0.0000, 0.0000, 0.0000, 0.0000, 0.0000, 0.0000,\n",
       "        0.0000, 0.3725, 0.0000, 0.0000, 0.0000, 0.0000, 0.0000, 0.0000, 0.0000,\n",
       "        0.0000, 0.0000, 0.0000, 0.0000, 0.0000, 0.0000, 0.0000, 0.0000, 0.0000,\n",
       "        0.3373, 0.3569, 0.2039, 0.4980, 0.4196, 0.4706, 0.3608, 0.3961, 0.4706,\n",
       "        0.4471, 1.0000, 0.4314, 0.3451, 0.0078, 0.0000, 0.0000, 0.0000, 0.0000,\n",
       "        0.0000, 0.0000, 0.0000, 0.0000, 0.0000, 0.0000, 0.0000, 0.0000, 0.0000,\n",
       "        0.0000, 0.0706, 0.0824, 0.0706, 0.4588, 0.4118, 0.4980, 0.2588, 0.2235,\n",
       "        0.2588, 0.0824, 0.0510, 0.1922, 0.5137, 0.5765, 0.0000, 0.0000, 0.0000,\n",
       "        0.0000, 0.0000, 0.0000, 0.0000, 0.0000, 0.0000, 0.0000, 0.0000, 0.0000,\n",
       "        0.0000, 0.0000, 0.0000, 0.0000, 0.0000, 0.0000, 0.0000, 0.0000, 0.0000,\n",
       "        0.0000, 0.0000, 0.0000, 0.1333, 0.8000, 0.5608, 0.5255, 0.2431, 0.0000,\n",
       "        0.0000, 0.0000, 0.0000, 0.0000, 0.0000, 0.0000, 0.0000, 0.0000, 0.0000,\n",
       "        0.0000, 0.0000, 0.0000, 0.0039, 0.0039, 0.0000, 0.0000, 0.0000, 0.0000,\n",
       "        0.0078, 0.0000, 0.0000, 0.0000, 0.9137, 0.9686, 0.5137, 0.4353, 0.6471,\n",
       "        0.0000, 0.0000, 0.0000, 0.0000, 0.0000, 0.0000, 0.0000, 0.0000, 0.0000,\n",
       "        0.0000, 0.0000, 0.0000, 0.0000, 0.0000, 0.0000, 0.0000, 0.0000, 0.0000,\n",
       "        0.0000, 0.0000, 0.0000, 0.0000, 0.0588, 0.3843, 0.6980, 0.0588, 0.2824,\n",
       "        0.1686, 0.0000, 0.0000, 0.0000, 0.0000, 0.0000, 0.0000, 0.0000, 0.0000,\n",
       "        0.0000, 0.0000, 0.0000, 0.0000, 0.0000, 0.0000, 0.0000, 0.0000, 0.0000,\n",
       "        0.0000, 0.0000, 0.0000, 0.0000, 0.1333, 0.2078, 0.2157, 0.6745, 0.2941,\n",
       "        0.1059, 0.0000, 0.0000, 0.0000, 0.0000, 0.0000, 0.0000, 0.0000, 0.0000,\n",
       "        0.0000, 0.0000, 0.0000, 0.0000, 0.0000, 0.0000, 0.0000, 0.0000, 0.0000,\n",
       "        0.0000, 0.0000, 0.0039, 0.0000, 0.0078, 0.3333, 0.2980, 0.2941, 0.2039,\n",
       "        0.0314, 0.0000, 0.0000, 0.0000, 0.0000, 0.0000, 0.0000, 0.0000, 0.0000,\n",
       "        0.0000, 0.0000, 0.0000, 0.0000, 0.0000, 0.0000, 0.0000, 0.0000, 0.0000,\n",
       "        0.0000, 0.0000, 0.0039, 0.0039, 0.0000, 0.2196, 0.5020, 0.0157, 0.0706,\n",
       "        0.3451, 0.3216, 0.0588, 0.0000, 0.0000, 0.0000, 0.0000, 0.0000, 0.0000,\n",
       "        0.0000, 0.0000, 0.0000, 0.0000, 0.0000, 0.0000, 0.0000, 0.0000, 0.0000,\n",
       "        0.0000, 0.0000, 0.0000, 0.0000, 0.0000, 0.0157, 0.4863, 0.3843, 0.1804,\n",
       "        0.6235, 0.7882, 0.6000, 0.1569, 0.0000, 0.0000, 0.0000, 0.0000, 0.0000,\n",
       "        0.0000, 0.0000, 0.0000, 0.0000, 0.0000, 0.0000, 0.0000, 0.0000, 0.0000,\n",
       "        0.0000, 0.0000, 0.0000, 0.0000, 0.0000, 0.0000, 0.2863, 0.4431, 0.4196,\n",
       "        0.5882, 0.5020, 0.1020, 0.2235, 0.0549, 0.0000, 0.0000, 0.0000, 0.0000,\n",
       "        0.0000, 0.0000, 0.0000, 0.0000, 0.0000, 0.0000, 0.0000, 0.0000, 0.0000,\n",
       "        0.0000, 0.0000, 0.0000, 0.0000, 0.0000, 0.0000, 0.0039, 0.4078, 0.4314,\n",
       "        0.7137, 0.1843, 0.2196, 0.4118, 0.3216, 0.0196, 0.0000, 0.0000, 0.0000,\n",
       "        0.0000, 0.0000, 0.0039, 0.0000, 0.0000, 0.0000, 0.0000, 0.0000, 0.0000,\n",
       "        0.0000, 0.0000, 0.0000, 0.0000, 0.0000, 0.0000, 0.0000, 0.2549, 0.5647,\n",
       "        0.6275, 0.0824, 0.0000, 0.0000, 0.5098, 0.3333, 0.0000, 0.0000, 0.0000,\n",
       "        0.0000, 0.0000, 0.0000, 0.0000, 0.0000, 0.0039, 0.0039, 0.0000, 0.0000,\n",
       "        0.0000, 0.0000, 0.0000, 0.0000, 0.0000, 0.0000, 0.0000, 0.3333, 0.5647,\n",
       "        0.5529, 0.0000, 0.0000, 0.0000, 0.0000, 0.6510, 0.3059, 0.0000, 0.0000,\n",
       "        0.0000, 0.0000, 0.0000, 0.0000, 0.0000, 0.0000, 0.0000, 0.0000, 0.0000,\n",
       "        0.0000, 0.0000, 0.0000, 0.0000, 0.0000, 0.0000, 0.0000, 0.1922, 0.7216,\n",
       "        0.4510, 0.0000, 0.0000, 0.0157, 0.0000, 0.0000, 0.6275, 0.2667, 0.0000,\n",
       "        0.0000, 0.0000, 0.0000, 0.0000, 0.0039, 0.0000, 0.0000, 0.0784, 0.0784,\n",
       "        0.0000, 0.0000, 0.0000, 0.0000, 0.0000, 0.0000, 0.0000, 0.0706, 0.6392,\n",
       "        0.3804, 0.0000, 0.0000, 0.0000, 0.0314, 0.0000, 0.0000, 0.6667, 0.1529,\n",
       "        0.0000, 0.0000, 0.0000, 0.0000, 0.0039, 0.0000, 0.0314, 0.2471, 0.2980,\n",
       "        0.1686, 0.0000, 0.0000, 0.0000, 0.0000, 0.0000, 0.0000, 0.0000, 0.5255,\n",
       "        0.5333, 0.0000, 0.0000, 0.0000, 0.0000, 0.0078, 0.0000, 0.0000, 0.6784,\n",
       "        0.0706, 0.0000, 0.0039, 0.0039, 0.0039, 0.0000, 0.0000, 0.0706, 0.0941,\n",
       "        0.0000, 0.0196, 0.0000, 0.0000, 0.0000, 0.0000, 0.0000, 0.0000, 0.3451,\n",
       "        0.7137, 0.0275, 0.0000, 0.0000, 0.0000, 0.0000, 0.0000, 0.0000, 0.0000,\n",
       "        0.6588, 0.0039, 0.0000, 0.0039, 0.0000, 0.0000, 0.0000, 0.0000, 0.0078,\n",
       "        0.1922, 0.1059, 0.1216, 0.2196, 0.0667, 0.0000, 0.0000, 0.0000, 0.3451,\n",
       "        0.6000, 0.1922, 0.0000, 0.0196, 0.0000, 0.0039, 0.0000, 0.0000, 0.0000,\n",
       "        0.0000, 0.6471, 0.0000, 0.0000, 0.0039, 0.0510, 0.0275, 0.0000, 0.0000,\n",
       "        0.0000, 0.3294, 0.3804, 0.4000, 0.4941, 0.3882, 0.0000, 0.0196, 0.5020,\n",
       "        0.6000, 0.2863, 0.0000, 0.0000, 0.0000, 0.0000, 0.0000, 0.0000, 0.0000,\n",
       "        0.0000, 0.0039, 0.5451, 0.0000, 0.0000, 0.0000, 0.3176, 0.5961, 0.5725,\n",
       "        0.5490, 0.4863, 0.4824, 0.5098, 0.4941, 0.4431, 0.4431, 0.4471, 0.7216,\n",
       "        0.6235, 0.1647, 0.0000, 0.0000, 0.0000, 0.0078, 0.0000, 0.0000, 0.0000,\n",
       "        0.0000, 0.0000, 0.0000, 0.7294, 0.0000, 0.0000, 0.0039, 0.0000, 0.0000,\n",
       "        0.0000, 0.0941, 0.1647, 0.1804, 0.2235, 0.2549, 0.2706, 0.2549, 0.2471,\n",
       "        0.1569, 0.0000, 0.0000, 0.0000, 0.0000, 0.0000, 0.0000, 0.0000, 0.0000,\n",
       "        0.0000, 0.0000, 0.0000, 0.0000, 0.7137, 0.0157, 0.0000, 0.0039, 0.0000,\n",
       "        0.0000, 0.0000, 0.0000, 0.0000, 0.0000, 0.0000, 0.0000, 0.0000, 0.0000,\n",
       "        0.0000, 0.0000, 0.0000, 0.0000, 0.0000, 0.0000, 0.0000, 0.0000, 0.0000,\n",
       "        0.0000, 0.0000, 0.0000, 0.0000, 0.0000, 0.0000, 0.0000, 0.0000, 0.0000,\n",
       "        0.0000, 0.0000, 0.0000, 0.0000, 0.0000, 0.0000, 0.0000, 0.0000, 0.0000,\n",
       "        0.0000, 0.0000, 0.0000, 0.0000, 0.0000, 0.0000, 0.0000, 0.0000, 0.0000,\n",
       "        0.0000, 0.0000, 0.0000, 0.0000, 0.0000, 0.0000, 0.0000, 0.0000, 0.0000,\n",
       "        0.0000])"
      ]
     },
     "execution_count": 15,
     "metadata": {},
     "output_type": "execute_result"
    }
   ],
   "source": [
    "output.squeeze()"
   ]
  },
  {
   "cell_type": "code",
   "execution_count": 16,
   "id": "abdfc46e",
   "metadata": {},
   "outputs": [],
   "source": [
    "class models(nn.Module):\n",
    "    def __init__(self,input_shape:int,hidden_units:int,output_shape:int):\n",
    "        super().__init__()\n",
    "        self.layer_stack=nn.Sequential(\n",
    "            nn.Flatten(),\n",
    "            nn.Linear(in_features=input_shape,out_features=hidden_units),\n",
    "            nn.Linear(in_features=hidden_units,out_features=output_shape)\n",
    "        )\n",
    "    def forward(self,x):\n",
    "        return self.layer_stack(x)"
   ]
  },
  {
   "cell_type": "code",
   "execution_count": 17,
   "id": "97f5b4ab",
   "metadata": {},
   "outputs": [
    {
     "data": {
      "text/plain": [
       "'cpu'"
      ]
     },
     "execution_count": 17,
     "metadata": {},
     "output_type": "execute_result"
    }
   ],
   "source": [
    "dev=\"cuda\" if torch.cuda.is_available() else \"cpu\"\n",
    "dev"
   ]
  },
  {
   "cell_type": "code",
   "execution_count": 18,
   "id": "8c0cb9e8",
   "metadata": {},
   "outputs": [
    {
     "data": {
      "text/plain": [
       "models(\n",
       "  (layer_stack): Sequential(\n",
       "    (0): Flatten(start_dim=1, end_dim=-1)\n",
       "    (1): Linear(in_features=784, out_features=10, bias=True)\n",
       "    (2): Linear(in_features=10, out_features=10, bias=True)\n",
       "  )\n",
       ")"
      ]
     },
     "execution_count": 18,
     "metadata": {},
     "output_type": "execute_result"
    }
   ],
   "source": [
    "newmod=models(input_shape=784,hidden_units=10,output_shape=len(class_names)).to(dev)\n",
    "            \n",
    "newmod"
   ]
  },
  {
   "cell_type": "code",
   "execution_count": 19,
   "id": "526a5323",
   "metadata": {},
   "outputs": [],
   "source": [
    "def accuracy(Ytss,Ypred):\n",
    "    cor=torch.eq(Ytss,Ypred).sum().item()\n",
    "    acc=cor/len(Ypred)*100\n",
    "    return acc"
   ]
  },
  {
   "cell_type": "code",
   "execution_count": 20,
   "id": "374179a5",
   "metadata": {},
   "outputs": [],
   "source": [
    "from timeit import default_timer as timer\n",
    "def trn_time(start: float,end:float,dev:torch.device=None):\n",
    "    total_time=end-start\n",
    "    print((f\"Train time {dev}: {total_time:.3f} seconds\"))"
   ]
  },
  {
   "cell_type": "code",
   "execution_count": 21,
   "id": "dd358d13",
   "metadata": {},
   "outputs": [],
   "source": [
    "llfnc=nn.CrossEntropyLoss()\n",
    "optm=torch.optim.SGD(params=newmod.parameters(),lr=0.1)"
   ]
  },
  {
   "cell_type": "code",
   "execution_count": 22,
   "id": "956fd8f4",
   "metadata": {},
   "outputs": [
    {
     "name": "stdout",
     "output_type": "stream",
     "text": [
      "Train time cpu: 0.000 seconds\n"
     ]
    }
   ],
   "source": [
    "starttime=timer()\n",
    "endtime=timer()\n",
    "trn_time(start=starttime,end=endtime,dev=\"cpu\")"
   ]
  },
  {
   "cell_type": "code",
   "execution_count": 23,
   "id": "50d412b0",
   "metadata": {},
   "outputs": [
    {
     "data": {
      "application/vnd.jupyter.widget-view+json": {
       "model_id": "b2559f475aa94ef9a1b07263e69a90b4",
       "version_major": 2,
       "version_minor": 0
      },
      "text/plain": [
       "  0%|          | 0/5 [00:00<?, ?it/s]"
      ]
     },
     "metadata": {},
     "output_type": "display_data"
    },
    {
     "name": "stdout",
     "output_type": "stream",
     "text": [
      "No of batch 0/60000\n",
      "No of batch 12800/60000\n",
      "No of batch 25600/60000\n",
      "No of batch 38400/60000\n",
      "No of batch 51200/60000\n",
      "train loss:0.5936 test loss: 0.5081,acc loss=82.2484\n",
      "No of batch 0/60000\n",
      "No of batch 12800/60000\n",
      "No of batch 25600/60000\n",
      "No of batch 38400/60000\n",
      "No of batch 51200/60000\n",
      "train loss:0.4760 test loss: 0.4827,acc loss=82.9872\n",
      "No of batch 0/60000\n",
      "No of batch 12800/60000\n",
      "No of batch 25600/60000\n",
      "No of batch 38400/60000\n",
      "No of batch 51200/60000\n",
      "train loss:0.4545 test loss: 0.4790,acc loss=83.4764\n",
      "No of batch 0/60000\n",
      "No of batch 12800/60000\n",
      "No of batch 25600/60000\n",
      "No of batch 38400/60000\n",
      "No of batch 51200/60000\n",
      "train loss:0.4419 test loss: 0.4623,acc loss=83.7161\n",
      "No of batch 0/60000\n",
      "No of batch 12800/60000\n",
      "No of batch 25600/60000\n",
      "No of batch 38400/60000\n",
      "No of batch 51200/60000\n",
      "train loss:0.4354 test loss: 0.4684,acc loss=83.3466\n",
      "Train time cpu: 157.319 seconds\n"
     ]
    }
   ],
   "source": [
    "from tqdm.auto import tqdm\n",
    "torch.manual_seed(42)\n",
    "strt=timer()\n",
    "epoch=5\n",
    "\n",
    "for epoc in tqdm(range(epoch)):\n",
    "    trnloss=0\n",
    "    for batch,(X,y) in enumerate(Trnload):\n",
    "        newmod.train()\n",
    "        ypred=newmod(X)\n",
    "        \n",
    "        loss=llfnc(ypred,y)\n",
    "        trnloss+=loss\n",
    "        optm.zero_grad()\n",
    "        loss.backward()\n",
    "        optm.step()\n",
    "        if batch %400 ==0:\n",
    "            print(f\"No of batch {batch*len(X)}/{len(Trnload.dataset)}\")\n",
    "            \n",
    "    trnloss/=len(Trnload)\n",
    "    tloss,tacc=0,0\n",
    "    newmod.eval()\n",
    "    with torch.inference_mode():\n",
    "        for Xts,Yts in Testload:\n",
    "            tpred=newmod(Xts)\n",
    "            tloss+=llfnc(tpred,Yts)\n",
    "            tacc+=accuracy(Ytss=Yts,Ypred=tpred.argmax(dim=1))\n",
    "        tloss/=len(Testload)\n",
    "        tacc/=len(Testload)\n",
    "    print(f\"train loss:{trnloss:.4f} test loss: {tloss:.4f},acc loss={tacc:.4f}\")\n",
    "ends=timer()\n",
    "total_time=trn_time(start=strt,end=ends,dev=\"cpu\")"
   ]
  },
  {
   "cell_type": "code",
   "execution_count": 24,
   "id": "a2d858ea",
   "metadata": {},
   "outputs": [],
   "source": [
    "class nmodels(nn.Module):\n",
    "    def __init__(self,input_shape:int,hidden_units:int,output_shape:int):\n",
    "        super().__init__()\n",
    "        self.layer_stack=nn.Sequential(\n",
    "            nn.Flatten(),\n",
    "            nn.Linear(in_features=input_shape,out_features=hidden_units),\n",
    "            nn.ReLU(),\n",
    "            nn.Linear(in_features=hidden_units,out_features=output_shape),\n",
    "            nn.ReLU()\n",
    "        )\n",
    "    def forward(self,x : torch.Tensor):\n",
    "        return self.layer_stack(x)"
   ]
  },
  {
   "cell_type": "code",
   "execution_count": 25,
   "id": "74f95d6a",
   "metadata": {},
   "outputs": [
    {
     "data": {
      "text/plain": [
       "nmodels(\n",
       "  (layer_stack): Sequential(\n",
       "    (0): Flatten(start_dim=1, end_dim=-1)\n",
       "    (1): Linear(in_features=784, out_features=10, bias=True)\n",
       "    (2): ReLU()\n",
       "    (3): Linear(in_features=10, out_features=10, bias=True)\n",
       "    (4): ReLU()\n",
       "  )\n",
       ")"
      ]
     },
     "execution_count": 25,
     "metadata": {},
     "output_type": "execute_result"
    }
   ],
   "source": [
    "torch.manual_seed(42)\n",
    "modd=nmodels(input_shape=784,hidden_units=10,output_shape=len(class_names)).to(dev)\n",
    "modd"
   ]
  },
  {
   "cell_type": "code",
   "execution_count": 26,
   "id": "f79804cb",
   "metadata": {},
   "outputs": [],
   "source": [
    "newop=torch.optim.SGD(params=modd.parameters(),lr=0.1)"
   ]
  },
  {
   "cell_type": "code",
   "execution_count": 27,
   "id": "adc59f54",
   "metadata": {},
   "outputs": [
    {
     "data": {
      "application/vnd.jupyter.widget-view+json": {
       "model_id": "e01e86ad3d454bbdbf3fe35b0f447243",
       "version_major": 2,
       "version_minor": 0
      },
      "text/plain": [
       "  0%|          | 0/5 [00:00<?, ?it/s]"
      ]
     },
     "metadata": {},
     "output_type": "display_data"
    },
    {
     "name": "stdout",
     "output_type": "stream",
     "text": [
      "No of batch 0/60000\n",
      "No of batch 12800/60000\n",
      "No of batch 25600/60000\n",
      "No of batch 38400/60000\n",
      "No of batch 51200/60000\n",
      "train loss:1.0920 test loss: 0.9564,acc loss=64.9960\n",
      "No of batch 0/60000\n",
      "No of batch 12800/60000\n",
      "No of batch 25600/60000\n",
      "No of batch 38400/60000\n",
      "No of batch 51200/60000\n",
      "train loss:0.7810 test loss: 0.7223,acc loss=73.9117\n",
      "No of batch 0/60000\n",
      "No of batch 12800/60000\n",
      "No of batch 25600/60000\n",
      "No of batch 38400/60000\n",
      "No of batch 51200/60000\n",
      "train loss:0.6703 test loss: 0.6850,acc loss=75.0200\n",
      "No of batch 0/60000\n",
      "No of batch 12800/60000\n",
      "No of batch 25600/60000\n",
      "No of batch 38400/60000\n",
      "No of batch 51200/60000\n",
      "train loss:0.6438 test loss: 0.6508,acc loss=76.1282\n",
      "No of batch 0/60000\n",
      "No of batch 12800/60000\n",
      "No of batch 25600/60000\n",
      "No of batch 38400/60000\n",
      "No of batch 51200/60000\n",
      "train loss:0.6289 test loss: 0.6528,acc loss=75.9485\n",
      "Train time cpu: 94.788 seconds\n"
     ]
    }
   ],
   "source": [
    "from tqdm.auto import tqdm\n",
    "torch.manual_seed(42)\n",
    "strt=timer()\n",
    "epoch=5\n",
    "\n",
    "for epoc in tqdm(range(epoch)):\n",
    "    trnloss=0\n",
    "    for batch,(X,y) in enumerate(Trnload):\n",
    "        modd.train()\n",
    "        ypred=modd(X)\n",
    "        \n",
    "        loss=llfnc(ypred,y)\n",
    "        trnloss+=loss\n",
    "        newop.zero_grad()\n",
    "        loss.backward()\n",
    "        newop.step()\n",
    "        if batch %400 ==0:\n",
    "            print(f\"No of batch {batch*len(X)}/{len(Trnload.dataset)}\")\n",
    "            \n",
    "    trnloss/=len(Trnload)\n",
    "    tloss,tacc=0,0\n",
    "    modd.eval()\n",
    "    with torch.inference_mode():\n",
    "        for Xts,Yts in Testload:\n",
    "            tpred=modd(Xts)\n",
    "            tloss+=llfnc(tpred,Yts)\n",
    "            tacc+=accuracy(Ytss=Yts,Ypred=tpred.argmax(dim=1))\n",
    "        tloss/=len(Testload)\n",
    "        tacc/=len(Testload)\n",
    "    print(f\"train loss:{trnloss:.4f} test loss: {tloss:.4f},acc loss={tacc:.4f}\")\n",
    "ends=timer()\n",
    "total_time=trn_time(start=strt,end=ends,dev=\"cpu\")"
   ]
  },
  {
   "cell_type": "code",
   "execution_count": 34,
   "id": "0af11c9d",
   "metadata": {},
   "outputs": [],
   "source": [
    "import torch\n",
    "from torch import nn, optim\n",
    "from torch.utils.data import DataLoader\n",
    "\n",
    "def train_fn(model: nn.Module, data_loader: DataLoader, \n",
    "             loss_fn: nn.Module, optimizer: optim.Optimizer, \n",
    "             accuracyfn, device: torch.device):\n",
    "    model.train()\n",
    "    trn_loss, trn_acc = 0.0, 0.0\n",
    "\n",
    "    for batch, (X, Y) in enumerate(data_loader):\n",
    "        X, Y = X.to(device), Y.to(device)\n",
    "        y_pred = model(X)\n",
    "\n",
    "        loss = llfnc(y_pred, Y)\n",
    "        trn_loss += loss.item()\n",
    "        trn_acc += accuracyfn(Ytss=Y, Ypred=y_pred.argmax(dim=1))\n",
    "\n",
    "        optimizer.zero_grad()\n",
    "        loss.backward()\n",
    "        optimizer.step()\n",
    "\n",
    "    trn_loss /= len(data_loader)\n",
    "    trn_acc /= len(data_loader)\n",
    "    print(f\"Training loss: {trn_loss:.4f}, Training accuracy: {trn_acc:.2f}\")\n"
   ]
  },
  {
   "cell_type": "code",
   "execution_count": 40,
   "id": "27b479b1",
   "metadata": {},
   "outputs": [],
   "source": [
    "import torch\n",
    "from torch import nn, optim\n",
    "from torch.utils.data import DataLoader\n",
    "\n",
    "def test_fn(model: nn.Module, data_loader: DataLoader, \n",
    "             llfn: nn.Module, optimizer: optim.Optimizer, \n",
    "             accuracyfn, device: torch.device):\n",
    "    ts_loss, ts_acc = 0.0, 0.0\n",
    "    model.eval()\n",
    "    with torch.inference_mode():\n",
    "        for X,Y in data_loader:\n",
    "            X, Y = X.to(device), Y.to(device)\n",
    "            t_pred = model(X)\n",
    "            ts_loss += llfn(t_pred, Y)\n",
    "            ts_acc += accuracyfn(Ytss=Y, Ypred=t_pred.argmax(dim=1))\n",
    "        ts_loss /= len(data_loader)\n",
    "        ts_acc /= len(data_loader)\n",
    "        print(f\"Test loss: {ts_loss:.4f}, Test accuracy: {ts_acc:.2f}\")"
   ]
  },
  {
   "cell_type": "code",
   "execution_count": 41,
   "id": "d0921d69",
   "metadata": {},
   "outputs": [
    {
     "data": {
      "application/vnd.jupyter.widget-view+json": {
       "model_id": "2bf30ccdd7f943cc8e876955eb9454f0",
       "version_major": 2,
       "version_minor": 0
      },
      "text/plain": [
       "  0%|          | 0/5 [00:00<?, ?it/s]"
      ]
     },
     "metadata": {},
     "output_type": "display_data"
    },
    {
     "name": "stdout",
     "output_type": "stream",
     "text": [
      "Training loss: 0.3774, Training accuracy: 86.50\n",
      "Test loss: 0.3666, Test accuracy: 87.01\n",
      "Training loss: 0.3733, Training accuracy: 86.77\n",
      "Test loss: 0.3842, Test accuracy: 86.27\n",
      "Training loss: 0.3701, Training accuracy: 86.80\n",
      "Test loss: 0.3877, Test accuracy: 86.30\n",
      "Training loss: 0.3715, Training accuracy: 86.75\n",
      "Test loss: 0.3655, Test accuracy: 86.94\n",
      "Training loss: 0.3672, Training accuracy: 86.76\n",
      "Test loss: 0.3522, Test accuracy: 87.34\n",
      "Train time cpu: 136.531 seconds\n"
     ]
    }
   ],
   "source": [
    "from timeit import default_timer as timer\n",
    "from tqdm.auto import tqdm\n",
    "torch.manual_seed(42)\n",
    "strts=timer()\n",
    "epoch =5\n",
    "for epoc in tqdm(range(epoch)):\n",
    "    train_fn(model=modd,data_loader=Trnload,loss_fn=llfnc,optimizer=newop,accuracyfn=accuracy,device=dev)\n",
    "    test_fn(model=modd,data_loader=Trnload,llfn=llfnc,optimizer=newop,accuracyfn=accuracy,device=dev)\n",
    "endss=timer()\n",
    "trn_time(start=strts,end=endss,dev=\"cpu\")"
   ]
  },
  {
   "cell_type": "code",
   "execution_count": 42,
   "id": "53baf659",
   "metadata": {},
   "outputs": [],
   "source": [
    "# CNN"
   ]
  },
  {
   "cell_type": "code",
   "execution_count": null,
   "id": "026a817d",
   "metadata": {},
   "outputs": [],
   "source": [
    "class newmodels(nn.Module):\n",
    "    def __init__(self,input_shape:int,hidden_units:int,output_shape:int):\n",
    "        super().__init__()\n",
    "        self.conv_block_1=nn.Sequential(\n",
    "         nn.Conv2d(in_channels=input_shape,out_channels=hidden_units,\n",
    "                 kernel_size=3,stride=1,padding=1),\n",
    "         nn.ReLU(),\n",
    "         nn.Conv2d(in_channels=hidden_units,out_channels=hidden_units,\n",
    "                 kernel_size=3,stride=1,padding=1),\n",
    "         nn.ReLU(),\n",
    "         nn.MaxPool2d(kernel_size=2)\n",
    "        )\n",
    "        self.conv_block_2=nn.Sequential(\n",
    "            nn.Conv2d(in_channels=hidden_units,out_channels=hidden_units,\n",
    "                 kernel_size=3,stride=1,padding=1),\n",
    "            nn.ReLU(),\n",
    "            nn.Conv2d(in_channels=hidden_units,out_channels=hidden_units,\n",
    "                 kernel_size=3,stride=1,padding=1),\n",
    "            nn.ReLU(),\n",
    "            nn.MaxPool2d(kernel_size=2)\n",
    "        )\n",
    "        self.classifier=nn.Sequential(\n",
    "         nn.Flatten(),\n",
    "         nn.Linear(in_features=hidden_units*7*7,out_features=output_shape)\n",
    "        )  \n",
    "    def forward(self,x):\n",
    "        x=self.conv_block_1(x)\n",
    "        x=self.conv_block_2(x)\n",
    "        x=self.classifier(x)\n",
    "        return x"
   ]
  },
  {
   "cell_type": "code",
   "execution_count": null,
   "id": "43b8d4ff",
   "metadata": {},
   "outputs": [],
   "source": [
    "torch.manual_seed(42)\n",
    "realmod=newmodels(input_shape=1,hidden_units=10,\n",
    "                  output_shape=len(class_names)).to(dev)"
   ]
  },
  {
   "cell_type": "code",
   "execution_count": null,
   "id": "3bb4de1e",
   "metadata": {},
   "outputs": [],
   "source": [
    "torch.manual_seed(42)\n",
    "imgs=torch.rand(size=(32,3,64,64))\n",
    "timg=imgs[0]\n",
    "print(f\"Image batch:{imgs.shape}\")\n",
    "print(f\"img sample:{timg.shape}\")\n",
    "print(f\"Test image:{timg}\")"
   ]
  },
  {
   "cell_type": "code",
   "execution_count": null,
   "id": "6c936ac1",
   "metadata": {},
   "outputs": [],
   "source": [
    "conv_layer=nn.Conv2d(in_channels=3,out_channels=10,kernel_size=3,padding=1,stride=1)"
   ]
  },
  {
   "cell_type": "code",
   "execution_count": 75,
   "id": "cb3020c8",
   "metadata": {},
   "outputs": [
    {
     "name": "stdout",
     "output_type": "stream",
     "text": [
      "tensor([[[-3.3371e-01, -3.3281e-01, -5.0839e-01,  ..., -2.3694e-01,\n",
      "          -2.8108e-01, -3.1808e-01],\n",
      "         [-3.3042e-01, -4.4324e-01, -4.2661e-01,  ..., -4.0290e-01,\n",
      "          -2.5801e-01, -3.9595e-01],\n",
      "         [-5.5964e-02, -5.1716e-01, -6.2803e-01,  ..., -2.6973e-01,\n",
      "          -3.3916e-01, -3.8857e-01],\n",
      "         ...,\n",
      "         [-2.7309e-02, -3.8492e-01, -4.6536e-01,  ..., -4.6891e-01,\n",
      "          -4.6570e-01, -2.2956e-01],\n",
      "         [-1.9740e-01, -5.4037e-01, -1.7201e-01,  ..., -5.2281e-01,\n",
      "          -5.0674e-01, -2.9564e-01],\n",
      "         [-2.5090e-01, -5.9542e-01, -6.7210e-01,  ..., -5.3584e-01,\n",
      "          -3.1367e-01, -2.2348e-01]],\n",
      "\n",
      "        [[ 3.9225e-01,  2.5645e-01, -3.9996e-04,  ...,  3.4384e-02,\n",
      "           3.2497e-01, -2.5311e-01],\n",
      "         [ 2.9956e-01, -5.3156e-01, -1.8046e-01,  ...,  1.7471e-01,\n",
      "          -1.2710e-01, -5.2937e-01],\n",
      "         [-1.2867e-03, -1.5943e-02, -2.4883e-01,  ..., -2.7878e-01,\n",
      "          -3.0863e-01, -4.3687e-01],\n",
      "         ...,\n",
      "         [ 6.4779e-02,  1.2716e-02,  2.6920e-02,  ..., -1.1106e-01,\n",
      "          -4.8012e-01, -2.4620e-01],\n",
      "         [ 2.3820e-01, -3.2961e-01,  2.1277e-02,  ..., -2.9317e-01,\n",
      "          -3.7545e-01, -3.9675e-01],\n",
      "         [ 1.7410e-01, -3.8846e-01, -7.8465e-02,  ..., -5.4273e-01,\n",
      "          -3.1804e-01, -2.5492e-01]],\n",
      "\n",
      "        [[ 4.9560e-01,  4.6648e-01,  7.8672e-01,  ...,  4.1206e-01,\n",
      "           3.6856e-01,  6.4977e-01],\n",
      "         [ 2.6714e-01,  4.0617e-01,  3.4899e-01,  ...,  4.6857e-01,\n",
      "           3.2555e-01,  3.4669e-01],\n",
      "         [ 2.8804e-01,  5.6764e-01,  5.0454e-01,  ...,  5.3890e-01,\n",
      "           5.7726e-01,  4.8614e-01],\n",
      "         ...,\n",
      "         [ 1.6627e-01,  3.6225e-01, -1.9994e-02,  ...,  5.9607e-01,\n",
      "           6.0147e-01,  5.0161e-01],\n",
      "         [ 3.9636e-01,  6.1589e-01,  6.6188e-01,  ...,  4.8759e-01,\n",
      "           2.8392e-01,  3.0109e-01],\n",
      "         [ 1.6450e-02,  1.9989e-01,  5.5147e-02,  ...,  3.3950e-01,\n",
      "           1.3923e-02,  1.8342e-01]],\n",
      "\n",
      "        ...,\n",
      "\n",
      "        [[-4.5773e-02, -8.3060e-02, -1.7148e-01,  ...,  1.5109e-01,\n",
      "          -8.6541e-02, -3.0333e-01],\n",
      "         [-7.6377e-02, -2.0832e-01, -9.8821e-02,  ..., -2.1551e-01,\n",
      "          -1.7218e-01, -8.8052e-03],\n",
      "         [-6.1907e-02, -1.7415e-01, -3.2023e-01,  ..., -3.7221e-01,\n",
      "          -2.4937e-01, -2.6101e-01],\n",
      "         ...,\n",
      "         [-6.5980e-02,  5.5866e-02,  1.9235e-01,  ..., -3.9383e-01,\n",
      "          -1.7649e-01, -1.5939e-01],\n",
      "         [-2.7801e-02, -4.7900e-01, -3.1740e-01,  ..., -1.4854e-01,\n",
      "          -1.9974e-01, -1.1421e-02],\n",
      "         [-2.6407e-02,  9.6541e-02,  1.8668e-01,  ..., -9.5631e-02,\n",
      "           2.5798e-01,  7.0767e-02]],\n",
      "\n",
      "        [[-6.9899e-02,  3.5998e-01,  1.3443e-01,  ...,  1.1361e-01,\n",
      "           1.2549e-01,  2.5908e-01],\n",
      "         [-2.1048e-02,  1.9356e-02,  1.8610e-02,  ...,  4.8136e-02,\n",
      "           1.1338e-01,  1.7138e-01],\n",
      "         [-1.0930e-01,  1.0057e-01,  5.6088e-01,  ..., -4.9055e-03,\n",
      "           3.3272e-01,  3.2905e-01],\n",
      "         ...,\n",
      "         [-7.3354e-02,  1.9833e-01, -2.7466e-02,  ...,  1.5342e-01,\n",
      "           4.3653e-01,  1.6015e-01],\n",
      "         [ 2.4230e-02,  3.1388e-01,  3.2235e-02,  ...,  2.2610e-01,\n",
      "           2.0105e-01,  4.9523e-02],\n",
      "         [-4.8118e-02,  3.3843e-01,  3.6407e-03,  ...,  1.9276e-01,\n",
      "          -1.6879e-02,  1.1271e-01]],\n",
      "\n",
      "        [[-9.5260e-02, -1.7176e-01,  8.9573e-02,  ..., -7.4127e-02,\n",
      "          -2.0024e-01, -3.3990e-01],\n",
      "         [ 1.1756e-01,  4.5061e-01,  7.3517e-02,  ..., -3.7902e-02,\n",
      "          -2.0029e-01, -1.8977e-01],\n",
      "         [-9.6018e-02,  3.3484e-01, -5.1628e-03,  ...,  6.6609e-02,\n",
      "          -9.8653e-02, -1.9845e-01],\n",
      "         ...,\n",
      "         [-3.5991e-01,  1.0100e-01,  2.4809e-01,  ..., -2.5095e-01,\n",
      "           2.0448e-01, -2.6141e-01],\n",
      "         [-1.2351e-01, -1.1275e-01,  1.8546e-01,  ..., -1.2155e-03,\n",
      "           3.4480e-01,  1.4007e-02],\n",
      "         [ 2.0958e-02,  7.8349e-02,  2.7675e-01,  ...,  2.4495e-01,\n",
      "           4.9667e-02,  4.0143e-03]]], grad_fn=<SqueezeBackward1>)\n"
     ]
    }
   ],
   "source": [
    "timg.unsqueeze(0).shape\n",
    "convout=conv_layer(timg)\n",
    "print(convout)"
   ]
  },
  {
   "cell_type": "code",
   "execution_count": 76,
   "id": "fe748f58",
   "metadata": {},
   "outputs": [
    {
     "data": {
      "text/plain": [
       "torch.Size([1, 28, 28])"
      ]
     },
     "execution_count": 76,
     "metadata": {},
     "output_type": "execute_result"
    }
   ],
   "source": [
    "randt=torch.rand(size=(1,28,28))\n",
    "randt.shape"
   ]
  },
  {
   "cell_type": "code",
   "execution_count": 77,
   "id": "ec49bd71",
   "metadata": {},
   "outputs": [
    {
     "data": {
      "text/plain": [
       "tensor([[ 1.5517, -0.8933,  0.0408, -2.0197, -0.1643, -0.3590,  2.1459, -2.3991,\n",
       "          3.2099, -0.4382]], grad_fn=<AddmmBackward0>)"
      ]
     },
     "execution_count": 77,
     "metadata": {},
     "output_type": "execute_result"
    }
   ],
   "source": [
    "realmod(randt.unsqueeze(0).to(dev))"
   ]
  },
  {
   "cell_type": "code",
   "execution_count": 78,
   "id": "c2f96681",
   "metadata": {},
   "outputs": [],
   "source": [
    "opt=torch.optim.SGD(params=realmod.parameters(),lr=0.1)"
   ]
  },
  {
   "cell_type": "code",
   "execution_count": 81,
   "id": "6c5e39e0",
   "metadata": {},
   "outputs": [
    {
     "data": {
      "application/vnd.jupyter.widget-view+json": {
       "model_id": "6a7c2aad15ec450589410e0c80cfd5a9",
       "version_major": 2,
       "version_minor": 0
      },
      "text/plain": [
       "  0%|          | 0/1 [00:00<?, ?it/s]"
      ]
     },
     "metadata": {},
     "output_type": "display_data"
    },
    {
     "name": "stdout",
     "output_type": "stream",
     "text": [
      "Epoch no. : 0\n",
      "Training loss: 0.2982, Training accuracy: 89.20\n",
      "Test loss: 0.2701, Test accuracy: 90.28\n",
      "Train time cpu: 200.413 seconds\n"
     ]
    }
   ],
   "source": [
    "torch.manual_seed(42)\n",
    "\n",
    "srt=timer()\n",
    "epoch=1\n",
    "\n",
    "for epoc in tqdm(range(epoch)):\n",
    "    print(f\"Epoch no. : {epoc}\")\n",
    "    train_fn(model=realmod,data_loader=Trnload,loss_fn=llfnc,\n",
    "             optimizer=opt,accuracyfn=accuracy,device=dev)\n",
    "    test_fn(model=realmod,data_loader=Trnload,llfn=llfnc,\n",
    "            optimizer=opt,accuracyfn=accuracy,device=dev)\n",
    "ed=timer()\n",
    "trn_time(start=srt,end=ed,dev=\"cpu\")"
   ]
  },
  {
   "cell_type": "code",
   "execution_count": 91,
   "id": "31cd3250",
   "metadata": {},
   "outputs": [],
   "source": [
    "def mk_pred(model:torch.nn.Module,data:list,\n",
    "           device:torch.device=dev):\n",
    "    pred_probs=[]\n",
    "    model.eval()\n",
    "    with torch.inference_mode():\n",
    "        for samp in data:\n",
    "            samp=torch.unsqueeze(samp,dim=0).to(dev)\n",
    "            pred_logit=model(samp)\n",
    "            pred_prob=torch.softmax(pred_logit.squeeze(),dim=0)\n",
    "            pred_probs.append(pred_prob.cpu())\n",
    "        return torch.stack(pred_probs)"
   ]
  },
  {
   "cell_type": "code",
   "execution_count": 111,
   "id": "50956606",
   "metadata": {},
   "outputs": [],
   "source": [
    "import random\n",
    "#random.seed(42)\n",
    "tsamp=[]\n",
    "tlbl=[]\n",
    "for samp, lbls in random.sample(list(Tsdta),k=9):\n",
    "    tsamp.append(samp)\n",
    "    tlbl.append(lbls)\n"
   ]
  },
  {
   "cell_type": "code",
   "execution_count": 112,
   "id": "436790c0",
   "metadata": {},
   "outputs": [
    {
     "data": {
      "text/plain": [
       "<matplotlib.image.AxesImage at 0x1eb3a450410>"
      ]
     },
     "execution_count": 112,
     "metadata": {},
     "output_type": "execute_result"
    },
    {
     "data": {
      "image/png": "[encoded data removed]",
      "text/plain": [
       "<Figure size 640x480 with 1 Axes>"
      ]
     },
     "metadata": {},
     "output_type": "display_data"
    }
   ],
   "source": [
    "plt.imshow(tsamp[0].squeeze())"
   ]
  },
  {
   "cell_type": "code",
   "execution_count": 113,
   "id": "e7c7251b",
   "metadata": {},
   "outputs": [
    {
     "data": {
      "text/plain": [
       "tensor([[1.3969e-05, 3.0578e-06, 1.1803e-05, 2.7191e-04, 2.9386e-07, 9.9623e-01,\n",
       "         9.9867e-06, 1.1421e-03, 2.3174e-03, 3.9899e-07],\n",
       "        [1.3141e-01, 1.3631e-03, 6.4742e-01, 2.8243e-02, 2.2889e-03, 3.6998e-05,\n",
       "         1.6922e-01, 1.0510e-03, 1.8872e-02, 9.3324e-05],\n",
       "        [9.9778e-01, 1.2328e-06, 1.2754e-04, 1.0425e-04, 8.8491e-06, 3.0816e-09,\n",
       "         1.9730e-03, 9.0933e-09, 3.2605e-06, 1.0613e-08],\n",
       "        [2.3282e-05, 9.9922e-01, 1.8744e-07, 2.2233e-04, 4.2598e-04, 1.3974e-06,\n",
       "         2.4462e-05, 1.6074e-05, 6.7833e-05, 1.3481e-06]])"
      ]
     },
     "execution_count": 113,
     "metadata": {},
     "output_type": "execute_result"
    }
   ],
   "source": [
    "pred_probs=mk_pred(model=realmod,data=tsamp,device=dev)\n",
    "pred_probs[:4]"
   ]
  },
  {
   "cell_type": "code",
   "execution_count": 114,
   "id": "afae3e2f",
   "metadata": {},
   "outputs": [
    {
     "data": {
      "image/png": "[encoded data removed]",
      "text/plain": [
       "<Figure size 800x800 with 9 Axes>"
      ]
     },
     "metadata": {},
     "output_type": "display_data"
    }
   ],
   "source": [
    "pred_clas=pred_probs.argmax(dim=1)\n",
    "plt.figure(figsize=(8,8))\n",
    "nrows=4\n",
    "ncols=4\n",
    "for it,samp in enumerate(tsamp):\n",
    "    plt.subplot(nrows,ncols,it+1)\n",
    "    plt.axis(False);\n",
    "    plt.imshow(samp.squeeze())\n",
    "    pred_lbl=class_names[pred_clas[it]]\n",
    "    tru_lbl=class_names[tlbl[it]]\n",
    "    title_text=f\"P:{pred_lbl}, T:{tru_lbl}\"\n",
    "    if pred_lbl==tru_lbl:\n",
    "        plt.title(title_text,fontsize=10,c=\"g\")\n",
    "    else:\n",
    "        plt.title(title_text,fontsize=10,c=\"r\")\n"
   ]
  },
  {
   "cell_type": "code",
   "execution_count": 115,
   "id": "28026ea5",
   "metadata": {},
   "outputs": [],
   "source": [
    "import mlxtend"
   ]
  },
  {
   "cell_type": "code",
   "execution_count": 119,
   "id": "ef05fed7",
   "metadata": {},
   "outputs": [
    {
     "data": {
      "application/vnd.jupyter.widget-view+json": {
       "model_id": "23b6f66986a3432dac44961df5bcbbac",
       "version_major": 2,
       "version_minor": 0
      },
      "text/plain": [
       "  0%|          | 0/313 [00:00<?, ?it/s]"
      ]
     },
     "metadata": {},
     "output_type": "display_data"
    },
    {
     "data": {
      "text/plain": [
       "tensor([9, 2, 1,  ..., 0, 1, 2])"
      ]
     },
     "execution_count": 119,
     "metadata": {},
     "output_type": "execute_result"
    }
   ],
   "source": [
    "nypred=[]\n",
    "realmod.eval()\n",
    "with torch.inference_mode():\n",
    "    for X,Y in tqdm(Testload):\n",
    "        X=X.to(dev)\n",
    "        y=Y.to(dev)\n",
    "        ylogit=realmod(X)\n",
    "        ypred=torch.softmax(ylogit.squeeze(),dim=0).argmax(dim=1)\n",
    "      #  predic=mk_pred(model=realmod,data=Tsload,device=dev)\n",
    "        nypred.append(ypred.cpu())\n",
    "ypredten=torch.cat(nypred)\n",
    "ypredten"
   ]
  },
  {
   "cell_type": "code",
   "execution_count": 120,
   "id": "dc01593c",
   "metadata": {},
   "outputs": [],
   "source": [
    "import torchmetrics"
   ]
  },
  {
   "cell_type": "code",
   "execution_count": 126,
   "id": "5bda1dc3",
   "metadata": {},
   "outputs": [
    {
     "data": {
      "image/png": "[encoded data removed]",
      "text/plain": [
       "<Figure size 1500x1300 with 1 Axes>"
      ]
     },
     "metadata": {},
     "output_type": "display_data"
    }
   ],
   "source": [
    "import torch\n",
    "from torchmetrics import ConfusionMatrix\n",
    "from mlxtend.plotting import plot_confusion_matrix\n",
    "import matplotlib.pyplot as plt\n",
    "\n",
    "# Assuming class_names, ypredten (predictions), and Tsdta.targets (true labels) are already defined\n",
    "\n",
    "# Number of classes\n",
    "num_classes = len(class_names)\n",
    "\n",
    "# Compute the confusion matrix\n",
    "confmat = ConfusionMatrix(task=\"multiclass\", num_classes=num_classes)\n",
    "tensconf = confmat(preds=ypredten, target=Tsdta.targets)\n",
    "\n",
    "# Convert the confusion matrix to a numpy array\n",
    "confmat_numpy = tensconf.numpy()\n",
    "\n",
    "# Plot the confusion matrix\n",
    "fig, ax = plot_confusion_matrix(\n",
    "    conf_mat=confmat_numpy,\n",
    "    class_names=class_names,\n",
    "    figsize=(15, 13)\n",
    ")\n",
    "\n",
    "plt.show()\n"
   ]
  },
  {
   "cell_type": "code",
   "execution_count": null,
   "id": "5b471703",
   "metadata": {},
   "outputs": [],
   "source": []
  }
 ],
 "metadata": {
  "kernelspec": {
   "display_name": "Python 3 (ipykernel)",
   "language": "python",
   "name": "python3"
  },
  "language_info": {
   "codemirror_mode": {
    "name": "ipython",
    "version": 3
   },
   "file_extension": ".py",
   "mimetype": "text/x-python",
   "name": "python",
   "nbconvert_exporter": "python",
   "pygments_lexer": "ipython3",
   "version": "3.11.5"
  }
 },
 "nbformat": 4,
 "nbformat_minor": 5
}
